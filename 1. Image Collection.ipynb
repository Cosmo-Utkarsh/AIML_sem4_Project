{
 "cells": [
  {
   "cell_type": "code",
   "execution_count": 1,
   "metadata": {},
   "outputs": [
    {
     "name": "stdout",
     "output_type": "stream",
     "text": [
      "Requirement already satisfied: opencv-python in c:\\users\\utkar\\anaconda3\\lib\\site-packages (4.5.3.56)\n",
      "Requirement already satisfied: numpy>=1.17.3 in c:\\users\\utkar\\anaconda3\\lib\\site-packages (from opencv-python) (1.19.5)\n"
     ]
    }
   ],
   "source": [
    "!pip install opencv-python"
   ]
  },
  {
   "cell_type": "code",
   "execution_count": 1,
   "metadata": {},
   "outputs": [],
   "source": [
    "import cv2 \n",
    "import uuid\n",
    "import os\n",
    "import time"
   ]
  },
  {
   "cell_type": "code",
   "execution_count": 14,
   "metadata": {},
   "outputs": [],
   "source": [
    "labels = ['ok', 'livelong', 'thankyou', 'coronavirus']\n",
    "number_imgs = 10"
   ]
  },
  {
   "cell_type": "code",
   "execution_count": 3,
   "metadata": {},
   "outputs": [],
   "source": [
    "IMAGES_PATH = os.path.join('Tensorflow', 'workspace', 'images', 'collectedimages')"
   ]
  },
  {
   "cell_type": "code",
   "execution_count": 5,
   "metadata": {},
   "outputs": [],
   "source": [
    "if not os.path.exists(IMAGES_PATH): #checks is path exists or not\n",
    "    if os.name == 'posix':\n",
    "        !mkdir -p {IMAGES_PATH}\n",
    "    if os.name == 'nt':\n",
    "         !mkdir {IMAGES_PATH}\n",
    "for label in labels:\n",
    "    path = os.path.join(IMAGES_PATH, label) #creates path along with lable folders\n",
    "    if not os.path.exists(path):\n",
    "        !mkdir {path}"
   ]
  },
  {
   "cell_type": "markdown",
   "metadata": {},
   "source": [
    "# capturing images for database"
   ]
  },
  {
   "cell_type": "code",
   "execution_count": 15,
   "metadata": {
    "scrolled": true
   },
   "outputs": [
    {
     "name": "stdout",
     "output_type": "stream",
     "text": [
      "Collecting images for ok\n",
      "Collecting image 0\n",
      "Collecting image 1\n",
      "Collecting image 2\n",
      "Collecting image 3\n",
      "Collecting image 4\n",
      "Collecting image 5\n",
      "Collecting image 6\n",
      "Collecting image 7\n",
      "Collecting image 8\n",
      "Collecting image 9\n",
      "Collecting images for livelong\n",
      "Collecting image 0\n",
      "Collecting image 1\n",
      "Collecting image 2\n",
      "Collecting image 3\n",
      "Collecting image 4\n",
      "Collecting image 5\n",
      "Collecting image 6\n",
      "Collecting image 7\n",
      "Collecting image 8\n",
      "Collecting image 9\n",
      "Collecting images for thankyou\n",
      "Collecting image 0\n",
      "Collecting image 1\n",
      "Collecting image 2\n",
      "Collecting image 3\n",
      "Collecting image 4\n",
      "Collecting image 5\n",
      "Collecting image 6\n",
      "Collecting image 7\n",
      "Collecting image 8\n",
      "Collecting image 9\n",
      "Collecting images for coronavirus\n",
      "Collecting image 0\n",
      "Collecting image 1\n",
      "Collecting image 2\n",
      "Collecting image 3\n",
      "Collecting image 4\n",
      "Collecting image 5\n",
      "Collecting image 6\n",
      "Collecting image 7\n",
      "Collecting image 8\n",
      "Collecting image 9\n"
     ]
    }
   ],
   "source": [
    "\n",
    "for label in labels:\n",
    "    cap = cv2.VideoCapture(0) #connects to webcam\n",
    "    print('Collecting images for {}'.format(label))\n",
    "    time.sleep(5)\n",
    "    for imgnum in range(number_imgs):\n",
    "        print('Collecting image {}'.format(imgnum))\n",
    "        ret, frame = cap.read()\n",
    "        imgname = os.path.join(IMAGES_PATH,label,label+'.'+'{}.jpg'.format(str(uuid.uuid1())))\n",
    "        cv2.imwrite(imgname, frame)\n",
    "        cv2.imshow('frame', frame)\n",
    "        time.sleep(2)\n",
    "\n",
    "        if cv2.waitKey(1) & 0xFF == ord('q'):\n",
    "            break\n",
    "cap.release()\n",
    "cv2.destroyAllWindows()"
   ]
  },
  {
   "cell_type": "code",
   "execution_count": 14,
   "metadata": {},
   "outputs": [
    {
     "name": "stdout",
     "output_type": "stream",
     "text": [
      "Requirement already satisfied: pyqt5 in c:\\users\\utkar\\anaconda3\\lib\\site-packages (5.15.4)\n",
      "Requirement already satisfied: lxml in c:\\users\\utkar\\anaconda3\\lib\\site-packages (4.6.3)\n",
      "Requirement already satisfied: PyQt5-sip<13,>=12.8 in c:\\users\\utkar\\anaconda3\\lib\\site-packages (from pyqt5) (12.9.0)\n",
      "Requirement already satisfied: PyQt5-Qt5>=5.15 in c:\\users\\utkar\\anaconda3\\lib\\site-packages (from pyqt5) (5.15.2)\n"
     ]
    }
   ],
   "source": [
    "!pip install --upgrade pyqt5 lxml"
   ]
  },
  {
   "cell_type": "code",
   "execution_count": 9,
   "metadata": {},
   "outputs": [],
   "source": [
    "LABELIMG_PATH = os.path.join('Tensorflow', 'labelimg')"
   ]
  },
  {
   "cell_type": "markdown",
   "metadata": {},
   "source": [
    "# labeling images according to their sign"
   ]
  },
  {
   "cell_type": "code",
   "execution_count": 10,
   "metadata": {},
   "outputs": [],
   "source": [
    "\n",
    "if not os.path.exists(LABELIMG_PATH):\n",
    "    !mkdir {LABELIMG_PATH}\n",
    "    !git clone https://github.com/tzutalin/labelImg {LABELIMG_PATH}"
   ]
  },
  {
   "cell_type": "code",
   "execution_count": 11,
   "metadata": {},
   "outputs": [],
   "source": [
    "if os.name == 'posix':\n",
    "    !cd {LABELIMG_PATH} && make qt5py3\n",
    "if os.name =='nt':\n",
    "    !cd {LABELIMG_PATH} && pyrcc5 -o libs/resources.py resources.qrc"
   ]
  },
  {
   "cell_type": "code",
   "execution_count": 16,
   "metadata": {},
   "outputs": [
    {
     "name": "stdout",
     "output_type": "stream",
     "text": [
      "Image:C:\\Users\\utkar\\TensorFlow Object Detection\\TFODCourse\\Tensorflow\\workspace\\images\\collectedimages\\coronavirus\\coronavirus.4ae0af37-c4a1-11ec-9508-5c61995910e8.jpg -> Annotation:C:/Users/utkar/TensorFlow Object Detection/TFODCourse/Tensorflow/workspace/images/collectedimages/coronavirus/coronavirus.4ae0af37-c4a1-11ec-9508-5c61995910e8.xml\n",
      "Image:C:\\Users\\utkar\\TensorFlow Object Detection\\TFODCourse\\Tensorflow\\workspace\\images\\collectedimages\\coronavirus\\coronavirus.4aebc69b-c498-11ec-8ae8-5c61995910e8.jpg -> Annotation:C:/Users/utkar/TensorFlow Object Detection/TFODCourse/Tensorflow/workspace/images/collectedimages/coronavirus/coronavirus.4aebc69b-c498-11ec-8ae8-5c61995910e8.xml\n",
      "Image:C:\\Users\\utkar\\TensorFlow Object Detection\\TFODCourse\\Tensorflow\\workspace\\images\\collectedimages\\coronavirus\\coronavirus.4aebc69b-c498-11ec-8ae8-5c61995910e8.jpg -> Annotation:C:\\Users\\utkar\\TensorFlow Object Detection\\TFODCourse\\Tensorflow\\workspace\\images\\collectedimages\\coronavirus\\coronavirus.4aebc69b-c498-11ec-8ae8-5c61995910e8.xml\n",
      "Image:C:\\Users\\utkar\\TensorFlow Object Detection\\TFODCourse\\Tensorflow\\workspace\\images\\collectedimages\\coronavirus\\coronavirus.4c17d03b-c4a1-11ec-bc2c-5c61995910e8.jpg -> Annotation:C:/Users/utkar/TensorFlow Object Detection/TFODCourse/Tensorflow/workspace/images/collectedimages/coronavirus/coronavirus.4c17d03b-c4a1-11ec-bc2c-5c61995910e8.xml\n",
      "Image:C:\\Users\\utkar\\TensorFlow Object Detection\\TFODCourse\\Tensorflow\\workspace\\images\\collectedimages\\coronavirus\\coronavirus.4c2133a7-c498-11ec-ad19-5c61995910e8.jpg -> Annotation:C:/Users/utkar/TensorFlow Object Detection/TFODCourse/Tensorflow/workspace/images/collectedimages/coronavirus/coronavirus.4c2133a7-c498-11ec-ad19-5c61995910e8.xml\n",
      "Image:C:\\Users\\utkar\\TensorFlow Object Detection\\TFODCourse\\Tensorflow\\workspace\\images\\collectedimages\\coronavirus\\coronavirus.4d55a15f-c498-11ec-9f15-5c61995910e8.jpg -> Annotation:C:/Users/utkar/TensorFlow Object Detection/TFODCourse/Tensorflow/workspace/images/collectedimages/coronavirus/coronavirus.4d55a15f-c498-11ec-9f15-5c61995910e8.xml\n",
      "Image:C:\\Users\\utkar\\TensorFlow Object Detection\\TFODCourse\\Tensorflow\\workspace\\images\\collectedimages\\coronavirus\\coronavirus.4e8447ae-c4a1-11ec-a760-5c61995910e8.jpg -> Annotation:C:/Users/utkar/TensorFlow Object Detection/TFODCourse/Tensorflow/workspace/images/collectedimages/coronavirus/coronavirus.4e8447ae-c4a1-11ec-a760-5c61995910e8.xml\n",
      "Image:C:\\Users\\utkar\\TensorFlow Object Detection\\TFODCourse\\Tensorflow\\workspace\\images\\collectedimages\\coronavirus\\coronavirus.4fb939ee-c4a1-11ec-bd4f-5c61995910e8.jpg -> Annotation:C:/Users/utkar/TensorFlow Object Detection/TFODCourse/Tensorflow/workspace/images/collectedimages/coronavirus/coronavirus.4fb939ee-c4a1-11ec-bd4f-5c61995910e8.xml\n",
      "Image:C:\\Users\\utkar\\TensorFlow Object Detection\\TFODCourse\\Tensorflow\\workspace\\images\\collectedimages\\coronavirus\\coronavirus.49aa8543-c4a1-11ec-8a07-5c61995910e8.jpg -> Annotation:C:/Users/utkar/TensorFlow Object Detection/TFODCourse/Tensorflow/workspace/images/collectedimages/coronavirus/coronavirus.49aa8543-c4a1-11ec-8a07-5c61995910e8.xml\n",
      "Image:C:\\Users\\utkar\\TensorFlow Object Detection\\TFODCourse\\Tensorflow\\workspace\\images\\collectedimages\\coronavirus\\coronavirus.49b51525-c498-11ec-8918-5c61995910e8.jpg -> Annotation:C:/Users/utkar/TensorFlow Object Detection/TFODCourse/Tensorflow/workspace/images/collectedimages/coronavirus/coronavirus.49b51525-c498-11ec-8918-5c61995910e8.xml\n",
      "Image:C:\\Users\\utkar\\TensorFlow Object Detection\\TFODCourse\\Tensorflow\\workspace\\images\\collectedimages\\coronavirus\\coronavirus.50efc87c-c4a1-11ec-b3fd-5c61995910e8.jpg -> Annotation:C:/Users/utkar/TensorFlow Object Detection/TFODCourse/Tensorflow/workspace/images/collectedimages/coronavirus/coronavirus.50efc87c-c4a1-11ec-b3fd-5c61995910e8.xml\n",
      "Image:C:\\Users\\utkar\\TensorFlow Object Detection\\TFODCourse\\Tensorflow\\workspace\\images\\collectedimages\\coronavirus\\coronavirus.473f57c9-c4a1-11ec-8257-5c61995910e8.jpg -> Annotation:C:/Users/utkar/TensorFlow Object Detection/TFODCourse/Tensorflow/workspace/images/collectedimages/coronavirus/coronavirus.473f57c9-c4a1-11ec-8257-5c61995910e8.xml\n",
      "Image:C:\\Users\\utkar\\TensorFlow Object Detection\\TFODCourse\\Tensorflow\\workspace\\images\\collectedimages\\coronavirus\\coronavirus.4874e6b4-c4a1-11ec-b0f8-5c61995910e8.jpg -> Annotation:C:/Users/utkar/TensorFlow Object Detection/TFODCourse/Tensorflow/workspace/images/collectedimages/coronavirus/coronavirus.4874e6b4-c4a1-11ec-b0f8-5c61995910e8.xml\n",
      "Image:C:\\Users\\utkar\\TensorFlow Object Detection\\TFODCourse\\Tensorflow\\workspace\\images\\collectedimages\\coronavirus\\coronavirus.460739c7-c4a1-11ec-8403-5c61995910e8.jpg -> Annotation:C:/Users/utkar/TensorFlow Object Detection/TFODCourse/Tensorflow/workspace/images/collectedimages/coronavirus/coronavirus.460739c7-c4a1-11ec-8403-5c61995910e8.xml\n",
      "Image:C:\\Users\\utkar\\TensorFlow Object Detection\\TFODCourse\\Tensorflow\\workspace\\images\\collectedimages\\coronavirus\\coronavirus.48802530-c498-11ec-8e4c-5c61995910e8.jpg -> Annotation:C:/Users/utkar/TensorFlow Object Detection/TFODCourse/Tensorflow/workspace/images/collectedimages/coronavirus/coronavirus.48802530-c498-11ec-8e4c-5c61995910e8.xml\n",
      "Image:C:\\Users\\utkar\\TensorFlow Object Detection\\TFODCourse\\Tensorflow\\workspace\\images\\collectedimages\\livelong\\livelong.2b130ad2-c4a1-11ec-a958-5c61995910e8.jpg -> Annotation:C:/Users/utkar/TensorFlow Object Detection/TFODCourse/Tensorflow/workspace/images/collectedimages/livelong/livelong.2b130ad2-c4a1-11ec-a958-5c61995910e8.xml\n",
      "Image:C:\\Users\\utkar\\TensorFlow Object Detection\\TFODCourse\\Tensorflow\\workspace\\images\\collectedimages\\livelong\\livelong.22a301dd-c4a1-11ec-a329-5c61995910e8.jpg -> Annotation:C:/Users/utkar/TensorFlow Object Detection/TFODCourse/Tensorflow/workspace/images/collectedimages/livelong/livelong.22a301dd-c4a1-11ec-a329-5c61995910e8.xml\n",
      "Image:C:\\Users\\utkar\\TensorFlow Object Detection\\TFODCourse\\Tensorflow\\workspace\\images\\collectedimages\\livelong\\livelong.23d726b9-c4a1-11ec-b2f1-5c61995910e8.jpg -> Annotation:C:/Users/utkar/TensorFlow Object Detection/TFODCourse/Tensorflow/workspace/images/collectedimages/livelong/livelong.23d726b9-c4a1-11ec-b2f1-5c61995910e8.xml\n",
      "Image:C:\\Users\\utkar\\TensorFlow Object Detection\\TFODCourse\\Tensorflow\\workspace\\images\\collectedimages\\livelong\\livelong.28a86cf4-c4a1-11ec-99eb-5c61995910e8.jpg -> Annotation:C:/Users/utkar/TensorFlow Object Detection/TFODCourse/Tensorflow/workspace/images/collectedimages/livelong/livelong.28a86cf4-c4a1-11ec-99eb-5c61995910e8.xml\n",
      "Image:C:\\Users\\utkar\\TensorFlow Object Detection\\TFODCourse\\Tensorflow\\workspace\\images\\collectedimages\\livelong\\livelong.29dda9f4-c4a1-11ec-9638-5c61995910e8.jpg -> Annotation:C:/Users/utkar/TensorFlow Object Detection/TFODCourse/Tensorflow/workspace/images/collectedimages/livelong/livelong.29dda9f4-c4a1-11ec-9638-5c61995910e8.xml\n",
      "Image:C:\\Users\\utkar\\TensorFlow Object Detection\\TFODCourse\\Tensorflow\\workspace\\images\\collectedimages\\livelong\\livelong.33a0a234-c498-11ec-a344-5c61995910e8.jpg -> Annotation:C:/Users/utkar/TensorFlow Object Detection/TFODCourse/Tensorflow/workspace/images/collectedimages/livelong/livelong.33a0a234-c498-11ec-a344-5c61995910e8.xml\n",
      "Image:C:\\Users\\utkar\\TensorFlow Object Detection\\TFODCourse\\Tensorflow\\workspace\\images\\collectedimages\\livelong\\livelong.34d5b2c3-c498-11ec-bd87-5c61995910e8.jpg -> Annotation:C:/Users/utkar/TensorFlow Object Detection/TFODCourse/Tensorflow/workspace/images/collectedimages/livelong/livelong.34d5b2c3-c498-11ec-bd87-5c61995910e8.xml\n",
      "Image:C:\\Users\\utkar\\TensorFlow Object Detection\\TFODCourse\\Tensorflow\\workspace\\images\\collectedimages\\livelong\\livelong.216eca67-c4a1-11ec-88de-5c61995910e8.jpg -> Annotation:C:/Users/utkar/TensorFlow Object Detection/TFODCourse/Tensorflow/workspace/images/collectedimages/livelong/livelong.216eca67-c4a1-11ec-88de-5c61995910e8.xml\n",
      "Image:C:\\Users\\utkar\\TensorFlow Object Detection\\TFODCourse\\Tensorflow\\workspace\\images\\collectedimages\\livelong\\livelong.250b9971-c4a1-11ec-bb1b-5c61995910e8.jpg -> Annotation:C:/Users/utkar/TensorFlow Object Detection/TFODCourse/Tensorflow/workspace/images/collectedimages/livelong/livelong.250b9971-c4a1-11ec-bb1b-5c61995910e8.xml\n",
      "Image:C:\\Users\\utkar\\TensorFlow Object Detection\\TFODCourse\\Tensorflow\\workspace\\images\\collectedimages\\livelong\\livelong.326d8c8c-c498-11ec-9d46-5c61995910e8.jpg -> Annotation:C:/Users/utkar/TensorFlow Object Detection/TFODCourse/Tensorflow/workspace/images/collectedimages/livelong/livelong.326d8c8c-c498-11ec-9d46-5c61995910e8.xml\n",
      "Image:C:\\Users\\utkar\\TensorFlow Object Detection\\TFODCourse\\Tensorflow\\workspace\\images\\collectedimages\\livelong\\livelong.2640bf84-c4a1-11ec-959a-5c61995910e8.jpg -> Annotation:C:/Users/utkar/TensorFlow Object Detection/TFODCourse/Tensorflow/workspace/images/collectedimages/livelong/livelong.2640bf84-c4a1-11ec-959a-5c61995910e8.xml\n",
      "Image:C:\\Users\\utkar\\TensorFlow Object Detection\\TFODCourse\\Tensorflow\\workspace\\images\\collectedimages\\livelong\\livelong.2774fb25-c4a1-11ec-9773-5c61995910e8.jpg -> Annotation:C:/Users/utkar/TensorFlow Object Detection/TFODCourse/Tensorflow/workspace/images/collectedimages/livelong/livelong.2774fb25-c4a1-11ec-9773-5c61995910e8.xml\n",
      "Image:C:\\Users\\utkar\\TensorFlow Object Detection\\TFODCourse\\Tensorflow\\workspace\\images\\collectedimages\\livelong\\livelong.3139ef6b-c498-11ec-9630-5c61995910e8.jpg -> Annotation:C:/Users/utkar/TensorFlow Object Detection/TFODCourse/Tensorflow/workspace/images/collectedimages/livelong/livelong.3139ef6b-c498-11ec-9630-5c61995910e8.xml\n",
      "Cancel creation.\n",
      "Image:C:\\Users\\utkar\\TensorFlow Object Detection\\TFODCourse\\Tensorflow\\workspace\\images\\collectedimages\\livelong\\livelong.30049a6c-c498-11ec-bd1d-5c61995910e8.jpg -> Annotation:C:/Users/utkar/TensorFlow Object Detection/TFODCourse/Tensorflow/workspace/images/collectedimages/livelong/livelong.30049a6c-c498-11ec-bd1d-5c61995910e8.xml\n",
      "Image:C:\\Users\\utkar\\TensorFlow Object Detection\\TFODCourse\\Tensorflow\\workspace\\images\\collectedimages\\livelong\\livelong.20392490-c4a1-11ec-b9a2-5c61995910e8.jpg -> Annotation:C:/Users/utkar/TensorFlow Object Detection/TFODCourse/Tensorflow/workspace/images/collectedimages/livelong/livelong.20392490-c4a1-11ec-b9a2-5c61995910e8.xml\n",
      "Image:C:\\Users\\utkar\\TensorFlow Object Detection\\TFODCourse\\Tensorflow\\workspace\\images\\collectedimages\\ok\\ok.0f68b70e-c4a1-11ec-8868-5c61995910e8.jpg -> Annotation:C:/Users/utkar/TensorFlow Object Detection/TFODCourse/Tensorflow/workspace/images/collectedimages/ok/ok.0f68b70e-c4a1-11ec-8868-5c61995910e8.xml\n",
      "Image:C:\\Users\\utkar\\TensorFlow Object Detection\\TFODCourse\\Tensorflow\\workspace\\images\\collectedimages\\ok\\ok.11d0b92e-c4a1-11ec-a1f0-5c61995910e8.jpg -> Annotation:C:/Users/utkar/TensorFlow Object Detection/TFODCourse/Tensorflow/workspace/images/collectedimages/ok/ok.11d0b92e-c4a1-11ec-a1f0-5c61995910e8.xml\n",
      "Image:C:\\Users\\utkar\\TensorFlow Object Detection\\TFODCourse\\Tensorflow\\workspace\\images\\collectedimages\\ok\\ok.16a34e0a-c4a1-11ec-bb34-5c61995910e8.jpg -> Annotation:C:/Users/utkar/TensorFlow Object Detection/TFODCourse/Tensorflow/workspace/images/collectedimages/ok/ok.16a34e0a-c4a1-11ec-bb34-5c61995910e8.xml\n",
      "Image:C:\\Users\\utkar\\TensorFlow Object Detection\\TFODCourse\\Tensorflow\\workspace\\images\\collectedimages\\ok\\ok.17d82df5-c4a1-11ec-bcf9-5c61995910e8.jpg -> Annotation:C:/Users/utkar/TensorFlow Object Detection/TFODCourse/Tensorflow/workspace/images/collectedimages/ok/ok.17d82df5-c4a1-11ec-bcf9-5c61995910e8.xml\n",
      "Cancel creation.\n",
      "Image:C:\\Users\\utkar\\TensorFlow Object Detection\\TFODCourse\\Tensorflow\\workspace\\images\\collectedimages\\ok\\ok.27a2648f-c498-11ec-b023-5c61995910e8.jpg -> Annotation:C:/Users/utkar/TensorFlow Object Detection/TFODCourse/Tensorflow/workspace/images/collectedimages/ok/ok.27a2648f-c498-11ec-b023-5c61995910e8.xml\n",
      "Image:C:\\Users\\utkar\\TensorFlow Object Detection\\TFODCourse\\Tensorflow\\workspace\\images\\collectedimages\\ok\\ok.28d5ac77-c498-11ec-ad37-5c61995910e8.jpg -> Annotation:C:/Users/utkar/TensorFlow Object Detection/TFODCourse/Tensorflow/workspace/images/collectedimages/ok/ok.28d5ac77-c498-11ec-ad37-5c61995910e8.xml\n",
      "Cancel creation.\n",
      "Image:C:\\Users\\utkar\\TensorFlow Object Detection\\TFODCourse\\Tensorflow\\workspace\\images\\collectedimages\\ok\\ok.109cc646-c4a1-11ec-abdb-5c61995910e8.jpg -> Annotation:C:/Users/utkar/TensorFlow Object Detection/TFODCourse/Tensorflow/workspace/images/collectedimages/ok/ok.109cc646-c4a1-11ec-abdb-5c61995910e8.xml\n",
      "Image:C:\\Users\\utkar\\TensorFlow Object Detection\\TFODCourse\\Tensorflow\\workspace\\images\\collectedimages\\ok\\ok.143a66bb-c4a1-11ec-86a6-5c61995910e8.jpg -> Annotation:C:/Users/utkar/TensorFlow Object Detection/TFODCourse/Tensorflow/workspace/images/collectedimages/ok/ok.143a66bb-c4a1-11ec-86a6-5c61995910e8.xml\n",
      "Image:C:\\Users\\utkar\\TensorFlow Object Detection\\TFODCourse\\Tensorflow\\workspace\\images\\collectedimages\\ok\\ok.143a66bb-c4a1-11ec-86a6-5c61995910e8.jpg -> Annotation:C:\\Users\\utkar\\TensorFlow Object Detection\\TFODCourse\\Tensorflow\\workspace\\images\\collectedimages\\ok\\ok.143a66bb-c4a1-11ec-86a6-5c61995910e8.xml\n",
      "Image:C:\\Users\\utkar\\TensorFlow Object Detection\\TFODCourse\\Tensorflow\\workspace\\images\\collectedimages\\ok\\ok.156f861d-c4a1-11ec-a3e4-5c61995910e8.jpg -> Annotation:C:/Users/utkar/TensorFlow Object Detection/TFODCourse/Tensorflow/workspace/images/collectedimages/ok/ok.156f861d-c4a1-11ec-a3e4-5c61995910e8.xml\n",
      "Image:C:\\Users\\utkar\\TensorFlow Object Detection\\TFODCourse\\Tensorflow\\workspace\\images\\collectedimages\\ok\\ok.190ca827-c4a1-11ec-9219-5c61995910e8.jpg -> Annotation:C:/Users/utkar/TensorFlow Object Detection/TFODCourse/Tensorflow/workspace/images/collectedimages/ok/ok.190ca827-c4a1-11ec-9219-5c61995910e8.xml\n",
      "Image:C:\\Users\\utkar\\TensorFlow Object Detection\\TFODCourse\\Tensorflow\\workspace\\images\\collectedimages\\ok\\ok.266ec8b1-c498-11ec-8c5a-5c61995910e8.jpg -> Annotation:C:/Users/utkar/TensorFlow Object Detection/TFODCourse/Tensorflow/workspace/images/collectedimages/ok/ok.266ec8b1-c498-11ec-8c5a-5c61995910e8.xml\n",
      "Image:C:\\Users\\utkar\\TensorFlow Object Detection\\TFODCourse\\Tensorflow\\workspace\\images\\collectedimages\\ok\\ok.1305520d-c4a1-11ec-bbfc-5c61995910e8.jpg -> Annotation:C:/Users/utkar/TensorFlow Object Detection/TFODCourse/Tensorflow/workspace/images/collectedimages/ok/ok.1305520d-c4a1-11ec-bbfc-5c61995910e8.xml\n",
      "Image:C:\\Users\\utkar\\TensorFlow Object Detection\\TFODCourse\\Tensorflow\\workspace\\images\\collectedimages\\thankyou\\thankyou.3bb160f4-c4a1-11ec-8505-5c61995910e8.jpg -> Annotation:C:/Users/utkar/TensorFlow Object Detection/TFODCourse/Tensorflow/workspace/images/collectedimages/thankyou/thankyou.3bb160f4-c4a1-11ec-8505-5c61995910e8.xml\n",
      "Image:C:\\Users\\utkar\\TensorFlow Object Detection\\TFODCourse\\Tensorflow\\workspace\\images\\collectedimages\\thankyou\\thankyou.3bf3a73c-c498-11ec-ba67-5c61995910e8.jpg -> Annotation:C:/Users/utkar/TensorFlow Object Detection/TFODCourse/Tensorflow/workspace/images/collectedimages/thankyou/thankyou.3bf3a73c-c498-11ec-ba67-5c61995910e8.xml\n",
      "Image:C:\\Users\\utkar\\TensorFlow Object Detection\\TFODCourse\\Tensorflow\\workspace\\images\\collectedimages\\thankyou\\thankyou.3d289603-c498-11ec-8ecb-5c61995910e8.jpg -> Annotation:C:/Users/utkar/TensorFlow Object Detection/TFODCourse/Tensorflow/workspace/images/collectedimages/thankyou/thankyou.3d289603-c498-11ec-8ecb-5c61995910e8.xml\n",
      "Image:C:\\Users\\utkar\\TensorFlow Object Detection\\TFODCourse\\Tensorflow\\workspace\\images\\collectedimages\\thankyou\\thankyou.3e5d8370-c498-11ec-840e-5c61995910e8.jpg -> Annotation:C:/Users/utkar/TensorFlow Object Detection/TFODCourse/Tensorflow/workspace/images/collectedimages/thankyou/thankyou.3e5d8370-c498-11ec-840e-5c61995910e8.xml\n",
      "Image:C:\\Users\\utkar\\TensorFlow Object Detection\\TFODCourse\\Tensorflow\\workspace\\images\\collectedimages\\thankyou\\thankyou.40c9781a-c498-11ec-8dfc-5c61995910e8.jpg -> Annotation:C:/Users/utkar/TensorFlow Object Detection/TFODCourse/Tensorflow/workspace/images/collectedimages/thankyou/thankyou.40c9781a-c498-11ec-8dfc-5c61995910e8.xml\n",
      "Image:C:\\Users\\utkar\\TensorFlow Object Detection\\TFODCourse\\Tensorflow\\workspace\\images\\collectedimages\\thankyou\\thankyou.346de1df-c4a1-11ec-8680-5c61995910e8.jpg -> Annotation:C:/Users/utkar/TensorFlow Object Detection/TFODCourse/Tensorflow/workspace/images/collectedimages/thankyou/thankyou.346de1df-c4a1-11ec-8680-5c61995910e8.xml\n",
      "Image:C:\\Users\\utkar\\TensorFlow Object Detection\\TFODCourse\\Tensorflow\\workspace\\images\\collectedimages\\thankyou\\thankyou.380f333a-c4a1-11ec-b23f-5c61995910e8.jpg -> Annotation:C:/Users/utkar/TensorFlow Object Detection/TFODCourse/Tensorflow/workspace/images/collectedimages/thankyou/thankyou.380f333a-c4a1-11ec-b23f-5c61995910e8.xml\n",
      "Image:C:\\Users\\utkar\\TensorFlow Object Detection\\TFODCourse\\Tensorflow\\workspace\\images\\collectedimages\\thankyou\\thankyou.39464e7b-c4a1-11ec-a941-5c61995910e8.jpg -> Annotation:C:/Users/utkar/TensorFlow Object Detection/TFODCourse/Tensorflow/workspace/images/collectedimages/thankyou/thankyou.39464e7b-c4a1-11ec-a941-5c61995910e8.xml\n",
      "Image:C:\\Users\\utkar\\TensorFlow Object Detection\\TFODCourse\\Tensorflow\\workspace\\images\\collectedimages\\thankyou\\thankyou.33375952-c4a1-11ec-bcfd-5c61995910e8.jpg -> Annotation:C:/Users/utkar/TensorFlow Object Detection/TFODCourse/Tensorflow/workspace/images/collectedimages/thankyou/thankyou.33375952-c4a1-11ec-bcfd-5c61995910e8.xml\n"
     ]
    }
   ],
   "source": [
    "!cd {LABELIMG_PATH} && python labelImg.py"
   ]
  },
  {
   "cell_type": "code",
   "execution_count": null,
   "metadata": {},
   "outputs": [],
   "source": []
  }
 ],
 "metadata": {
  "kernelspec": {
   "display_name": "tfod",
   "language": "python",
   "name": "tfod"
  },
  "language_info": {
   "codemirror_mode": {
    "name": "ipython",
    "version": 3
   },
   "file_extension": ".py",
   "mimetype": "text/x-python",
   "name": "python",
   "nbconvert_exporter": "python",
   "pygments_lexer": "ipython3",
   "version": "3.9.6"
  }
 },
 "nbformat": 4,
 "nbformat_minor": 2
}
